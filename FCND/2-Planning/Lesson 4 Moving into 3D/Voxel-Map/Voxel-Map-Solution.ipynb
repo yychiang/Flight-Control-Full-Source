{
 "cells": [
  {
   "cell_type": "markdown",
   "metadata": {},
   "source": [
    "# 3D Voxel Map\n",
    "\n",
    "In this exercise you'll finish the implementation of `create_grid` such that a 3D grid is returned where cells containing a voxel are set to `True`. You'll then plot the result!"
   ]
  },
  {
   "cell_type": "code",
   "execution_count": 1,
   "metadata": {},
   "outputs": [],
   "source": [
    "import numpy as np\n",
    "import matplotlib.pyplot as plt\n",
    "from mpl_toolkits.mplot3d import Axes3D\n",
    "\n",
    "%matplotlib inline "
   ]
  },
  {
   "cell_type": "code",
   "execution_count": 2,
   "metadata": {},
   "outputs": [],
   "source": [
    "plt.rcParams['figure.figsize'] = 16, 16"
   ]
  },
  {
   "cell_type": "code",
   "execution_count": 3,
   "metadata": {},
   "outputs": [
    {
     "name": "stdout",
     "output_type": "stream",
     "text": [
      "[[-305.  -435.    85.5    5.     5.    85.5]\n",
      " [-295.  -435.    85.5    5.     5.    85.5]\n",
      " [-285.  -435.    85.5    5.     5.    85.5]\n",
      " ..., \n",
      " [ 435.   465.     8.     5.     5.     8. ]\n",
      " [ 445.   465.     8.     5.     5.     8. ]\n",
      " [ 455.   465.     8.     5.     5.     8. ]]\n"
     ]
    }
   ],
   "source": [
    "# This is the same obstacle data from the previous lesson.\n",
    "filename = 'colliders.csv'\n",
    "data = np.loadtxt(filename, delimiter=',', dtype='Float64', skiprows=2)\n",
    "print(data)"
   ]
  },
  {
   "cell_type": "code",
   "execution_count": 4,
   "metadata": {},
   "outputs": [],
   "source": [
    "def create_voxmap(data, voxel_size=5):\n",
    "    \"\"\"\n",
    "    Returns a grid representation of a 3D configuration space\n",
    "    based on given obstacle data.\n",
    "    \n",
    "    The `voxel_size` argument sets the resolution of the voxel map. \n",
    "    \"\"\"\n",
    "    # minimum and maximum north coordinates\n",
    "    north_min = np.floor(np.amin(data[:, 0] - data[:, 3]))\n",
    "    north_max = np.ceil(np.amax(data[:, 0] + data[:, 3]))\n",
    "\n",
    "    # minimum and maximum east coordinates\n",
    "    east_min = np.floor(np.amin(data[:, 1] - data[:, 4]))\n",
    "    east_max = np.ceil(np.amax(data[:, 1] + data[:, 4]))\n",
    "\n",
    "    # maximum altitude\n",
    "    alt_max = np.ceil(np.amax(data[:, 2] + data[:, 5]))\n",
    "    \n",
    "    # given the minimum and maximum coordinates we can\n",
    "    # calculate the size of the grid.\n",
    "    north_size = int(np.ceil(north_max - north_min)) // voxel_size\n",
    "    east_size = int(np.ceil(east_max - east_min)) // voxel_size\n",
    "    alt_size = int(alt_max) // voxel_size\n",
    "\n",
    "    # Create an empty grid\n",
    "    voxmap = np.zeros((north_size, east_size, alt_size), dtype=np.bool)\n",
    "\n",
    "    for i in range(data.shape[0]):\n",
    "        # TODO: fill in the voxels that are part of an obstacle with `True`\n",
    "        #\n",
    "        # i.e. grid[0:5, 20:26, 2:7] = True\n",
    "        north, east, alt, d_north, d_east, d_alt = data[i, :]\n",
    "        obstacle = [\n",
    "            int(north - d_north - north_min) // voxel_size,\n",
    "            int(north + d_north - north_min) // voxel_size,\n",
    "            int(east - d_east - east_min) // voxel_size,\n",
    "            int(east + d_east - east_min) // voxel_size,\n",
    "        ]\n",
    "\n",
    "        height = int(alt + d_alt) // voxel_size\n",
    "        voxmap[obstacle[0]:obstacle[1], obstacle[2]:obstacle[3], 0:height] = True\n",
    "\n",
    "    return voxmap"
   ]
  },
  {
   "cell_type": "markdown",
   "metadata": {},
   "source": [
    "Create 3D grid."
   ]
  },
  {
   "cell_type": "code",
   "execution_count": null,
   "metadata": {},
   "outputs": [
    {
     "name": "stdout",
     "output_type": "stream",
     "text": [
      "(81, 91, 21)\n"
     ]
    }
   ],
   "source": [
    "voxmap = create_voxmap(data, 10)\n",
    "print(voxmap.shape)"
   ]
  },
  {
   "cell_type": "markdown",
   "metadata": {},
   "source": [
    "Plot the 3D grid. "
   ]
  },
  {
   "cell_type": "code",
   "execution_count": null,
   "metadata": {},
   "outputs": [],
   "source": [
    "fig = plt.figure()\n",
    "ax = fig.gca(projection='3d')\n",
    "ax.voxels(voxmap, edgecolor='k')\n",
    "ax.set_xlim(voxmap.shape[0], 0)\n",
    "ax.set_ylim(0, voxmap.shape[1])\n",
    "# add a bit to z-axis height for visualization\n",
    "ax.set_zlim(0, voxmap.shape[2]+20)\n",
    "\n",
    "plt.xlabel('North')\n",
    "plt.ylabel('East')\n",
    "\n",
    "plt.show()"
   ]
  },
  {
   "cell_type": "markdown",
   "metadata": {},
   "source": [
    "Isn't the city pretty?"
   ]
  },
  {
   "cell_type": "code",
   "execution_count": null,
   "metadata": {},
   "outputs": [],
   "source": []
  },
  {
   "cell_type": "code",
   "execution_count": null,
   "metadata": {},
   "outputs": [],
   "source": []
  },
  {
   "cell_type": "code",
   "execution_count": null,
   "metadata": {},
   "outputs": [],
   "source": []
  },
  {
   "cell_type": "code",
   "execution_count": null,
   "metadata": {},
   "outputs": [],
   "source": []
  },
  {
   "cell_type": "code",
   "execution_count": null,
   "metadata": {},
   "outputs": [],
   "source": []
  },
  {
   "cell_type": "code",
   "execution_count": null,
   "metadata": {},
   "outputs": [],
   "source": []
  },
  {
   "cell_type": "code",
   "execution_count": null,
   "metadata": {},
   "outputs": [],
   "source": []
  },
  {
   "cell_type": "code",
   "execution_count": null,
   "metadata": {},
   "outputs": [],
   "source": []
  },
  {
   "cell_type": "code",
   "execution_count": null,
   "metadata": {},
   "outputs": [],
   "source": []
  },
  {
   "cell_type": "code",
   "execution_count": null,
   "metadata": {},
   "outputs": [],
   "source": []
  }
 ],
 "metadata": {
  "kernelspec": {
   "display_name": "Python 3",
   "language": "python",
   "name": "python3"
  },
  "language_info": {
   "codemirror_mode": {
    "name": "ipython",
    "version": 3
   },
   "file_extension": ".py",
   "mimetype": "text/x-python",
   "name": "python",
   "nbconvert_exporter": "python",
   "pygments_lexer": "ipython3",
   "version": "3.6.3"
  }
 },
 "nbformat": 4,
 "nbformat_minor": 2
}
